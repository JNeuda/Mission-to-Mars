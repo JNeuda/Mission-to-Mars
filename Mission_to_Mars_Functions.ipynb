{
 "cells": [
  {
   "cell_type": "code",
   "execution_count": 1,
   "metadata": {},
   "outputs": [],
   "source": [
    "from selenium import webdriver\n",
    "from splinter import Browser\n",
    "from bs4 import BeautifulSoup\n",
    "import pandas as pd"
   ]
  },
  {
   "cell_type": "code",
   "execution_count": 2,
   "metadata": {},
   "outputs": [],
   "source": [
    "import time"
   ]
  },
  {
   "cell_type": "code",
   "execution_count": null,
   "metadata": {},
   "outputs": [],
   "source": [
    "def scrape_title_p():\n",
    "    \n",
    "    # Scrape the NASA Mars News Site and collect the latest News Title and Paragragh Text. Assign the text to variables that you can reference later.\n",
    "    chrome_path = \"resources/chromedriver\"\n",
    "    url = \"https://mars.nasa.gov/news/?page=0&per_page=40&order=publish_date+desc%2Ccreated_at+desc&search=&category=19%2C165%2C184%2C204&blank_scope=Latest\"\n",
    "    driver = webdriver.Chrome(chrome_path)\n",
    "    driver.get(url);\n",
    "    \n",
    "    time.sleep(5) #time in seconds\n",
    "    \n",
    "    #Selenium\n",
    "    results_titles = driver.find_elements_by_class_name(\"content_title\")\n",
    "    results_p = driver.find_elements_by_class_name(\"article_teaser_body\")\n",
    "    \n",
    "    # Variable for recent title\n",
    "    news_title = results_titles[0].text\n",
    "    \n",
    "    # Variable for recent <p>\n",
    "    news_p = results_p[0].text\n",
    "    \n",
    "    print(news_title)\n",
    "    print(news_p)\n",
    "    \n",
    "    #Store in Dictionary\n",
    "    title_and_p = {\n",
    "        \"news\": news_title,\n",
    "        \"paragraph\": news_p\n",
    "    }\n",
    "    \n",
    "    return title_and_p\n",
    "    \n",
    "   "
   ]
  },
  {
   "cell_type": "code",
   "execution_count": 3,
   "metadata": {},
   "outputs": [],
   "source": [
    "# Initialize browser\n",
    "def init_browser():\n",
    "    # @NOTE: Replace the path with your actual path to the chromedriver\n",
    "    executable_path = {\"executable_path\": \"/usr/local/bin/chromedriver\"}\n",
    "    return Browser(\"chrome\", **executable_path, headless=False)"
   ]
  },
  {
   "cell_type": "code",
   "execution_count": null,
   "metadata": {},
   "outputs": [],
   "source": [
    " # ------------------------------------------------------------------------------#\n",
    "#JPL Mars Space Images - Featured Image\n",
    "#Visit the url for JPL's Featured Space Image here. Use splinter to navigate the site and find the image url for the current Featured Mars Image and assign the url string to a variable called featured_image_url. Make sure to find the image url to the full size .jpg image. Make sure to save a complete url string for this image.\n",
    "    \n",
    "def scrape_mars_image():\n",
    "    \n",
    "    # Initialize browser\n",
    "    browser = init_browser()\n",
    "    \n",
    "    # Visit the Website\n",
    "    url = 'https://www.jpl.nasa.gov/spaceimages/?search=&category=Mars'\n",
    "    browser.visit(url)\n",
    "    \n",
    "    # Scrape page into soup\n",
    "    html = browser.html\n",
    "    soup = BeautifulSoup(html, 'html.parser')\n",
    "    articles = soup.find_all('div', class_='img')\n",
    "    \n",
    "    #Using beautiful soup to find url strin\n",
    "    href = articles[0].find('img')['src']\n",
    "    articles[0].find('img')['src']\n",
    "    \n",
    "    #Save complete url string \n",
    "    featured_image_url = 'https://www.jpl.nasa.gov/' + href\n",
    "    \n",
    "    print(featured_image_url)\n",
    "    \n",
    "    featured_image_url_d = {\n",
    "        \"img_url\":featured_image_url\n",
    "    }\n",
    "   \n",
    "    return featured_image_url_d"
   ]
  },
  {
   "cell_type": "code",
   "execution_count": null,
   "metadata": {},
   "outputs": [],
   "source": [
    "scrap_mars_image()"
   ]
  },
  {
   "cell_type": "code",
   "execution_count": null,
   "metadata": {},
   "outputs": [],
   "source": [
    "# ------------------------------------------------------------------------------#\n",
    "# Mars Weather\n",
    "# Visit the Mars Weather twitter account here and scrape the latest Mars weather tweet from the page. Save the tweet text for the weather report as a variable called mars_weather.\n",
    "\n",
    "def scrape_twitter():\n",
    "\n",
    "    # Initialize browser\n",
    "    browser = init_browser()\n",
    "    \n",
    "    # Visit the Website\n",
    "    url = 'https://twitter.com/marswxreport?lang=en'\n",
    "    browser.visit(url)\n",
    "    \n",
    "    # Scrape page into soup\n",
    "    html = browser.html\n",
    "    soup = BeautifulSoup(html, 'html.parser')\n",
    "    tweets = soup.find_all('p', class_='TweetTextSize TweetTextSize--normal js-tweet-text tweet-text')\n",
    "    \n",
    "    tweet_text = str(tweets[0].text)\n",
    "    \n",
    "    print(tweet_text)\n",
    "    \n",
    "    tweet_d = {\n",
    "        \"tweet\":tweet_text\n",
    "    }\n",
    "    \n",
    "    return tweet_d\n",
    "    "
   ]
  },
  {
   "cell_type": "code",
   "execution_count": null,
   "metadata": {},
   "outputs": [],
   "source": [
    "scrape_twitter()"
   ]
  },
  {
   "cell_type": "code",
   "execution_count": null,
   "metadata": {},
   "outputs": [],
   "source": [
    "# Mars Facts\n",
    "#Visit the Mars Facts webpage here and use Pandas to scrape the table containing facts about the planet including Diameter, Mass, etc.Use Pandas to convert the data to a HTML table string.\n",
    "def scrape_table():\n",
    "\n",
    "    url = 'https://space-facts.com/mars/'\n",
    "    \n",
    "    tables = pd.read_html(url)\n",
    "    df = tables[0]\n",
    "    df.columns = ['Information', 'Data']\n",
    "    html_table = df.to_html()\n",
    "    html_table.replace('\\n', '')\n",
    "    df.to_html('table.html')\n",
    "    \n",
    "    return df"
   ]
  },
  {
   "cell_type": "code",
   "execution_count": 25,
   "metadata": {},
   "outputs": [],
   "source": [
    "# Mars Hemisperes\n",
    "# Visit the USGS Astrogeology site here to obtain high resolution images for each of Mar's hemispheres.You will need to click each of the links to the hemispheres in order to find the image url to the full resolution image.Save both the image url string for the full resolution hemipshere image, and the Hemisphere title containing the hemisphere name. Use a Python dictionary to store the data using the keys img_url and title.Append the dictionary with the image url string and the hemisphere title to a list. This list will contain one dictionary for each hemisphere.\n",
    "\n",
    "def scrape_hemispheres():\n",
    "    \n",
    "    # Initialize browser\n",
    "    browser = init_browser()\n",
    "    \n",
    "    # Visit the website\n",
    "    url = 'https://astrogeology.usgs.gov/search/results?q=hemisphere+enhanced&k1=target&v1=Mars'\n",
    "    browser.visit(url)\n",
    "    \n",
    "    # Scrape page with soup\n",
    "    html = browser.html\n",
    "    soup = BeautifulSoup(html, 'html.parser')\n",
    "    hemispheres = soup.find_all('div', class_='item')\n",
    "    \n",
    "    i = 0\n",
    "    d = {}\n",
    "    hemisphere_image_urls = []\n",
    "\n",
    "    for x in hemispheres:\n",
    "    \n",
    "        #finding the title \n",
    "        text = hemispheres[i].find('h3').text\n",
    "    \n",
    "        #going to the page via the header title/text\n",
    "        browser.click_link_by_partial_text(text)\n",
    "        \n",
    "        #going to image page\n",
    "        # browser.click_link_by_partial_href('.tif/full.jpg')\n",
    "        \n",
    "        # Get the current website url\n",
    "        url = browser.url\n",
    "    \n",
    "        # Scrape page with soup\n",
    "        html = browser.html\n",
    "        soup = BeautifulSoup(html, 'html.parser')\n",
    "        \n",
    "        #getting url and giving it a variable\n",
    "        current_img = soup.find_all('div', class_=\"downloads\")\n",
    "        img_url = current_img[0].find('li').find('a')['href']\n",
    "    \n",
    "        #create key and value for dictionary d\n",
    "        d.update({'img_url': img_url,'title': text})\n",
    "        \n",
    "        #add dictionary to list\n",
    "        hemisphere_image_urls.append(d.copy())\n",
    "    \n",
    "        url = 'https://astrogeology.usgs.gov/search/results?q=hemisphere+enhanced&k1=target&v1=Mars'\n",
    "        browser.visit(url)\n",
    "    \n",
    "        i += 1\n",
    "        print(text)\n",
    "    \n",
    "    return(hemisphere_image_urls)"
   ]
  },
  {
   "cell_type": "code",
   "execution_count": 26,
   "metadata": {},
   "outputs": [
    {
     "name": "stdout",
     "output_type": "stream",
     "text": [
      "Cerberus Hemisphere Enhanced\n",
      "Schiaparelli Hemisphere Enhanced\n",
      "Syrtis Major Hemisphere Enhanced\n",
      "Valles Marineris Hemisphere Enhanced\n"
     ]
    },
    {
     "data": {
      "text/plain": [
       "[{'img_url': 'http://astropedia.astrogeology.usgs.gov/download/Mars/Viking/cerberus_enhanced.tif/full.jpg',\n",
       "  'title': 'Cerberus Hemisphere Enhanced'},\n",
       " {'img_url': 'http://astropedia.astrogeology.usgs.gov/download/Mars/Viking/schiaparelli_enhanced.tif/full.jpg',\n",
       "  'title': 'Schiaparelli Hemisphere Enhanced'},\n",
       " {'img_url': 'http://astropedia.astrogeology.usgs.gov/download/Mars/Viking/syrtis_major_enhanced.tif/full.jpg',\n",
       "  'title': 'Syrtis Major Hemisphere Enhanced'},\n",
       " {'img_url': 'http://astropedia.astrogeology.usgs.gov/download/Mars/Viking/valles_marineris_enhanced.tif/full.jpg',\n",
       "  'title': 'Valles Marineris Hemisphere Enhanced'}]"
      ]
     },
     "execution_count": 26,
     "metadata": {},
     "output_type": "execute_result"
    }
   ],
   "source": [
    "scrape_hemispheres()"
   ]
  },
  {
   "cell_type": "code",
   "execution_count": 16,
   "metadata": {},
   "outputs": [],
   "source": [
    "browser = init_browser()\n",
    "    \n",
    "# Visit the website\n",
    "url = 'https://astrogeology.usgs.gov/search/map/Mars/Viking/cerberus_enhanced'\n",
    "browser.visit(url)\n",
    "    \n",
    "# Scrape page with soup\n",
    "html = browser.html\n",
    "soup = BeautifulSoup(html, 'html.parser')\n"
   ]
  },
  {
   "cell_type": "code",
   "execution_count": 17,
   "metadata": {},
   "outputs": [],
   "source": [
    "hemispheres = soup.find_all('div', class_=\"downloads\")"
   ]
  },
  {
   "cell_type": "code",
   "execution_count": 18,
   "metadata": {},
   "outputs": [
    {
     "data": {
      "text/plain": [
       "'http://astropedia.astrogeology.usgs.gov/download/Mars/Viking/cerberus_enhanced.tif/full.jpg'"
      ]
     },
     "execution_count": 18,
     "metadata": {},
     "output_type": "execute_result"
    }
   ],
   "source": [
    "hemispheres[0].find('li').find('a')['href']"
   ]
  },
  {
   "cell_type": "code",
   "execution_count": 20,
   "metadata": {},
   "outputs": [
    {
     "data": {
      "text/plain": [
       "'https://astrogeology.usgs.gov/search/map/Mars/Viking/cerberus_enhanced'"
      ]
     },
     "execution_count": 20,
     "metadata": {},
     "output_type": "execute_result"
    }
   ],
   "source": [
    "browser.url"
   ]
  },
  {
   "cell_type": "code",
   "execution_count": 109,
   "metadata": {},
   "outputs": [
    {
     "ename": "TypeError",
     "evalue": "'method' object is not subscriptable",
     "output_type": "error",
     "traceback": [
      "\u001b[0;31m---------------------------------------------------------------------------\u001b[0m",
      "\u001b[0;31mTypeError\u001b[0m                                 Traceback (most recent call last)",
      "\u001b[0;32m<ipython-input-109-4be4cf41083d>\u001b[0m in \u001b[0;36m<module>\u001b[0;34m()\u001b[0m\n\u001b[1;32m      1\u001b[0m \u001b[0;32mfor\u001b[0m \u001b[0mx\u001b[0m \u001b[0;32min\u001b[0m \u001b[0mhemispheres\u001b[0m\u001b[0;34m:\u001b[0m\u001b[0;34m\u001b[0m\u001b[0m\n\u001b[0;32m----> 2\u001b[0;31m     \u001b[0mtext\u001b[0m \u001b[0;34m=\u001b[0m \u001b[0mx\u001b[0m\u001b[0;34m.\u001b[0m\u001b[0mfind\u001b[0m\u001b[0;34m[\u001b[0m\u001b[0;34m'li'\u001b[0m\u001b[0;34m]\u001b[0m\u001b[0;34m\u001b[0m\u001b[0m\n\u001b[0m\u001b[1;32m      3\u001b[0m     \u001b[0mprint\u001b[0m\u001b[0;34m(\u001b[0m\u001b[0mtext\u001b[0m\u001b[0;34m)\u001b[0m\u001b[0;34m\u001b[0m\u001b[0m\n",
      "\u001b[0;31mTypeError\u001b[0m: 'method' object is not subscriptable"
     ]
    }
   ],
   "source": [
    "for x in hemispheres:\n",
    "    text = x.find['li']\n",
    "    print(text)"
   ]
  },
  {
   "cell_type": "code",
   "execution_count": null,
   "metadata": {},
   "outputs": [],
   "source": []
  },
  {
   "cell_type": "code",
   "execution_count": null,
   "metadata": {},
   "outputs": [],
   "source": [
    "# def scrape():\n",
    "    \n",
    "#     # Scrape the NASA Mars News Site and collect the latest News Title and Paragragh Text. Assign the text to variables that you can reference later.\n",
    "#     chrome_path = \"resources/chromedriver\"\n",
    "#     url = \"https://mars.nasa.gov/news/?page=0&per_page=40&order=publish_date+desc%2Ccreated_at+desc&search=&category=19%2C165%2C184%2C204&blank_scope=Latest\"\n",
    "#     driver = webdriver.Chrome(chrome_path)\n",
    "#     driver.get(url);\n",
    "    \n",
    "#     time.sleep(5) #time in seconds\n",
    "    \n",
    "#     #Selenium\n",
    "#     results_titles = driver.find_elements_by_class_name(\"content_title\")\n",
    "#     results_p = driver.find_elements_by_class_name(\"article_teaser_body\")\n",
    "    \n",
    "#     # Variable for recent title\n",
    "#     news_title = results_titles[0].text\n",
    "    \n",
    "#     # Variable for recent <p>\n",
    "#     news_p = results_p[0].text\n",
    "    \n",
    "#     print(news_title)\n",
    "#     print(news_p)\n",
    "    \n",
    "#     # ------------------------------------------------------------------------------#\n",
    "#     #JPL Mars Space Images - Featured Image\n",
    "#     #Visit the url for JPL's Featured Space Image here. Use splinter to navigate the site and find the image url for the current Featured Mars Image and assign the url string to a variable called featured_image_url. Make sure to find the image url to the full size .jpg image. Make sure to save a complete url string for this image.\n",
    "    \n",
    "#     #Splinter / Browser\n",
    "#     executable_path = {'executable_path': '/usr/local/bin/chromedriver'}\n",
    "#     browser = Browser('chrome', **executable_path, headless=False)\n",
    "    \n",
    "#     url = 'https://www.jpl.nasa.gov/spaceimages/?search=&category=Mars'\n",
    "#     browser.visit(url)\n",
    "    \n",
    "#     html = browser.html\n",
    "#     soup = BeautifulSoup(html, 'html.parser')\n",
    "#     articles = soup.find_all('div', class_='img')\n",
    "    \n",
    "#     #Using beautiful soup to find url strin\n",
    "#     href = articles[0].find('img')['src']\n",
    "#     articles[0].find('img')['src']\n",
    "    \n",
    "#     #Save complete url string \n",
    "#     featured_image_url = 'https://www.jpl.nasa.gov/' + href\n",
    "    \n",
    "#     print(featured_image_url)\n",
    "    \n",
    "#     # ------------------------------------------------------------------------------#\n",
    "#     # Mars Weather\n",
    "#     # Visit the Mars Weather twitter account here and scrape the latest Mars weather tweet from the page. Save the tweet text for the weather report as a variable called mars_weather.\n",
    "    \n",
    "#     url = 'https://twitter.com/marswxreport?lang=en'\n",
    "#     browser.visit(url)\n",
    "    \n",
    "#     html = browser.html\n",
    "#     soup = BeautifulSoup(html, 'html.parser')\n",
    "#     tweets = soup.find_all('p', class_='TweetTextSize TweetTextSize--normal js-tweet-text tweet-text')\n",
    "    \n",
    "#     tweet_text = str(tweets[0].text)\n",
    "    \n",
    "#     print(tweet_text)\n",
    "    \n",
    "#     # ------------------------------------------------------------------------------#\n",
    "#     # Mars Facts\n",
    "#     #Visit the Mars Facts webpage here and use Pandas to scrape the table containing facts about the planet including Diameter, Mass, etc.Use Pandas to convert the data to a HTML table string.\n",
    "    \n",
    "#     url = 'https://space-facts.com/mars/'\n",
    "    \n",
    "#     tables = pd.read_html(url)\n",
    "#     df = tables[0]\n",
    "#     df.columns = ['Information', 'Data']\n",
    "#     html_table = df.to_html()\n",
    "#     html_table.replace('\\n', '')\n",
    "#     df.to_html('table.html')\n",
    "    \n",
    "#     # ------------------------------------------------------------------------------#\n",
    "#     # Mars Hemisperes\n",
    "#     # Visit the USGS Astrogeology site here to obtain high resolution images for each of Mar's hemispheres.You will need to click each of the links to the hemispheres in order to find the image url to the full resolution image.Save both the image url string for the full resolution hemipshere image, and the Hemisphere title containing the hemisphere name. Use a Python dictionary to store the data using the keys img_url and title.Append the dictionary with the image url string and the hemisphere title to a list. This list will contain one dictionary for each hemisphere.\n",
    "\n",
    "#     url = 'https://astrogeology.usgs.gov/search/results?q=hemisphere+enhanced&k1=target&v1=Mars'\n",
    "#     browser.visit(url)\n",
    "    \n",
    "#     html = browser.html\n",
    "#     soup = BeautifulSoup(html, 'html.parser')\n",
    "#     hemispheres = soup.find_all('div', class_='item')\n",
    "    \n",
    "#     i = 0\n",
    "#     d = {}\n",
    "#     hemisphere_image_urls = []\n",
    "\n",
    "#     for x in hemispheres:\n",
    "    \n",
    "#         #finding the title \n",
    "#         text = hemispheres[i].find('h3').text\n",
    "    \n",
    "#         #going to the page via the header title/text\n",
    "#         browser.click_link_by_partial_text(text)\n",
    "#         #going to image page\n",
    "#         browser.click_link_by_partial_href('.tif/full.jpg')\n",
    "#         #getting url and giving it a variable\n",
    "#         img_url = browser.url\n",
    "    \n",
    "#         #create key and value for dictionary d\n",
    "#         d.update({'img_url': img_url,'title': text})\n",
    "#         #add dictionary to list\n",
    "#         hemisphere_image_urls.append(d.copy())\n",
    "    \n",
    "#         url = 'https://astrogeology.usgs.gov/search/results?q=hemisphere+enhanced&k1=target&v1=Mars'\n",
    "#         browser.visit(url)\n",
    "    \n",
    "#         i += 1\n",
    "#         print(text)\n",
    "    \n",
    "#     print(hemisphere_image_urls)"
   ]
  }
 ],
 "metadata": {
  "kernelspec": {
   "display_name": "Python 3",
   "language": "python",
   "name": "python3"
  },
  "language_info": {
   "codemirror_mode": {
    "name": "ipython",
    "version": 3
   },
   "file_extension": ".py",
   "mimetype": "text/x-python",
   "name": "python",
   "nbconvert_exporter": "python",
   "pygments_lexer": "ipython3",
   "version": "3.6.4"
  }
 },
 "nbformat": 4,
 "nbformat_minor": 2
}
