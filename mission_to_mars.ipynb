{
 "cells": [
  {
   "cell_type": "code",
   "execution_count": 1,
   "metadata": {},
   "outputs": [],
   "source": [
    "from selenium import webdriver\n",
    "chrome_path = \"resources/chromedriver\""
   ]
  },
  {
   "cell_type": "code",
   "execution_count": 4,
   "metadata": {},
   "outputs": [],
   "source": [
    "url = \"https://mars.nasa.gov/news/?page=0&per_page=40&order=publish_date+desc%2Ccreated_at+desc&search=&category=19%2C165%2C184%2C204&blank_scope=Latest\"\n",
    "driver = webdriver.Chrome(chrome_path)\n",
    "driver.get(url);"
   ]
  },
  {
   "cell_type": "markdown",
   "metadata": {},
   "source": [
    "# NASA Mars News\n",
    "\n",
    "Scrape the NASA Mars News Site and collect the latest News Title and Paragragh Text. Assign the text to variables that you can reference later."
   ]
  },
  {
   "cell_type": "code",
   "execution_count": 13,
   "metadata": {},
   "outputs": [],
   "source": [
    "results_p = driver.find_elements_by_class_name(\"article_teaser_body\")"
   ]
  },
  {
   "cell_type": "code",
   "execution_count": 14,
   "metadata": {},
   "outputs": [
    {
     "name": "stdout",
     "output_type": "stream",
     "text": [
      "The spacecraft has completed its first trajectory correction maneuver.\n",
      "\n",
      "Engineers will now test delivering samples to instruments inside NASA's Curiosity Mars rover.\n",
      "\n",
      "NASA and the Department of Energy’s National Nuclear Security Administration (NNSA) have successfully demonstrated a new nuclear reactor power system that could enable long-duration crewed missions to the Moon, Mars and destinations beyond.\n",
      "\n",
      "Rover engineers at JPL will try to restore percussive drilling on Mars this week, part of a larger series of tests that will last through summer.\n",
      "\n",
      "One of NASA's MarCO CubeSats has taken its first image.\n",
      "\n",
      "NASA is adding a Mars helicopter to the agency’s next mission to the Red Planet, Mars 2020.\n",
      "\n",
      "MarCO is a pair of tiny spacecraft that launched with NASA's InSight lander today.\n",
      "\n",
      "NASA’s Mars InSight mission launched this morning on a 300-million-mile trip to Mars to study for the first time what lies deep beneath the surface of the Red Planet.\n",
      "\n",
      "All systems are go for NASA’s next launch to the Red Planet.\n",
      "\n",
      "A week before NASA's next Mars launch, Vice President Mike Pence toured the birthplace of the InSight Mars Lander and numerous other past, present and future space missions.\n",
      "\n",
      "NASA’s next mission to Mars, InSight, is scheduled to launch Saturday, May 5, on a first-ever mission to study the heart of the Red Planet.\n",
      "\n",
      "A post-test inspection of the composite structure for a heat shield to be used on the Mars 2020 mission revealed that a fracture occurred during structural testing.\n",
      "\n",
      "The first CubeSat mission to deep space will launch in May.\n",
      "\n",
      "On May 5, millions of Californians may witness the historic first interplanetary launch from America’s West Coast.\n",
      "\n",
      "NASA is investing in technology concepts, including several from JPL, that may one day be used for future space exploration missions.\n",
      "\n",
      "NASA is about to go on a journey to study the center of Mars.\n",
      "\n",
      "InSight, the next mission to the Red Planet, will use seismology to see into the depths of Mars.\n",
      "\n",
      "NASA's Mars Curiosity rover just hit a new milestone: its two-thousandth Martian day on the Red Planet. An image mosaic taken recently offers a preview of what comes next.\n",
      "\n",
      "NASA’s next mission to Mars will be the topic of a media briefing Thursday, March 29, at JPL. The briefing will air live on NASA Television and the agency’s website.\n",
      "\n",
      "NASA spacecraft travel to far-off destinations in space, but a new mobile app produced by NASA's Jet Propulsion Laboratory, Pasadena, California, brings spacecraft to users.\n",
      "\n",
      "Scientists and engineers with NASA's next mission to Mars will be touring California cities starting this month.\n",
      "\n",
      "NASA's Mars 2020 mission has begun the assembly, test and launch operations (ATLO) phase of its development, on track for a July 2020 launch to Mars.\n",
      "\n",
      "NASA invites digital creators to apply for social media credentials to cover the launch of the InSight mission to Mars, May 3-5, at California's Vandenberg Air Force Base.\n",
      "\n",
      "Engineers are practicing operations for NASA's Mars InSight lander, which is launching this spring.\n",
      "\n",
      "NASA's InSight spacecraft has arrived at Vandenberg Air Force Base in central California to begin final preparations for a launch this May.\n",
      "\n",
      "NASA's Mars Curiosity rover has conducted the first test of a new drilling technique on the Red Planet since its drill stopped working reliably.\n",
      "\n",
      "NASA has a long and successful track record at Mars. Since 1965, it has flown by, orbited, landed and roved across the surface of the Red Planet. What can InSight -- planned for launch in May -- do that hasn’t been done before?\n",
      "\n",
      "A recent view from Mars orbit of the site where NASA's Phoenix Mars mission landed on far-northern Mars nearly a decade ago captures changes.\n",
      "\n",
      "Diagnostic work is the focus for resuming service and exiting safe standby status.\n",
      "\n",
      "The Sun will rise on NASA's solar-powered Mars rover Opportunity for the 5,000th time on Saturday, sending rays of energy to a robot that continues to provide revelations.\n",
      "\n",
      "NASA's Mars Exploration Rover Opportunity keeps providing surprises about the Red Planet, most recently with observations of possible \"rock stripes.\"\n",
      "\n",
      "When it launches in 2020, NASA's next Mars rover will carry a chunk of Martian meteorite on board.\n",
      "\n",
      "NASA's Mars Reconnaissance Orbiter (MRO) has begun extra stargazing to help the space agency accomplish advances in Mars exploration over the next decade.\n",
      "\n",
      "Star-shaped, tiny, dark bumps in the fine-layered bright bedrock of a Martian ridge are drawing close inspection by NASA's Curiosity Mars rover.\n",
      "\n",
      "Project could help spacecraft keep time more efficiently and allow ground stations to better track multiple satellites at once near crowded areas like Mars.\n",
      "\n",
      "A new self-portrait of NASA's Curiosity Mars rover shows the vehicle on Vera Rubin Ridge.\n",
      "\n",
      "A panoramic image that NASA's Curiosity Mars rover took from a mountainside ridge provides a sweeping vista of key sites visited since the rover's 2012 landing, and the towering surroundings.\n",
      "\n",
      "NASA's next mission to Mars passed a key test Tuesday, extending the solar arrays that will power the InSight spacecraft once it lands on the Red Planet this November.\n",
      "\n",
      "If Mars has a global dust storm in 2018, observations could aid understanding of its effects.\n",
      "\n",
      "Researchers using NASA's Mars Reconnaissance Orbiter have found eight sites where thick deposits of ice beneath Mars' surface are exposed.\n",
      "\n"
     ]
    }
   ],
   "source": [
    "for result in results_p:\n",
    "    print (result.text)\n",
    "    print()"
   ]
  },
  {
   "cell_type": "code",
   "execution_count": 22,
   "metadata": {},
   "outputs": [
    {
     "data": {
      "text/plain": [
       "'The spacecraft has completed its first trajectory correction maneuver.'"
      ]
     },
     "execution_count": 22,
     "metadata": {},
     "output_type": "execute_result"
    }
   ],
   "source": [
    "news_p = results_p[0].text\n",
    "news_p"
   ]
  },
  {
   "cell_type": "code",
   "execution_count": 17,
   "metadata": {},
   "outputs": [],
   "source": [
    "results_titles = driver.find_elements_by_class_name(\"content_title\")"
   ]
  },
  {
   "cell_type": "code",
   "execution_count": 18,
   "metadata": {},
   "outputs": [
    {
     "name": "stdout",
     "output_type": "stream",
     "text": [
      "InSight Steers Toward Mars\n",
      "\n",
      "Drilling Success: Curiosity is Collecting Mars Rocks\n",
      "\n",
      "Demonstration Proves Nuclear Fission System Can Provide Space Exploration Power\n",
      "\n",
      "NASA's Curiosity Rover Aims to Get Its Rhythm Back\n",
      "\n",
      "A Pale Blue Dot, As Seen by a CubeSat\n",
      "\n",
      "Mars Helicopter to Fly on NASA’s Next Red Planet Rover Mission\n",
      "\n",
      "NASA's First Deep-Space CubeSats Say: 'Polo!'\n",
      "\n",
      "NASA, ULA Launch Mission to Study How Mars Was Made\n",
      "\n",
      "NASA’s First Mission to Study the Interior of Mars Awaits May 5 Launch\n",
      "\n",
      "Vice President Pence Visits JPL, Previews NASA’s Next Mars Mission Launch\n",
      "\n",
      "NASA Sets Sights on May 5 Launch of InSight to Mars\n",
      "\n",
      "Results of Heat Shield Testing\n",
      "\n",
      "NASA Engineers Dream Big with Small Spacecraft\n",
      "\n",
      "Bound for Mars: Countdown to First Interplanetary Launch from California\n",
      "\n",
      "NASA Invests in Visionary Technology\n",
      "\n",
      "NASA is Ready to Study the Heart of Mars\n",
      "\n",
      "‘Marsquakes’ Could Shake Up Planetary Science\n",
      "\n",
      "Mars Curiosity Celebrates Sol 2,000\n",
      "\n",
      "NASA Briefing on First Mission to Study Mars Interior\n",
      "\n",
      "New 'AR' Mobile App Features 3-D NASA Spacecraft\n",
      "\n",
      "NASA Mars Mission Tours California\n",
      "\n",
      "Next NASA Mars Rover Reaches Key Manufacturing Milestone\n",
      "\n",
      "Witness First Mars Launch from West Coast\n",
      "\n",
      "360 Video: Tour a Mars Robot Test Lab\n",
      "\n",
      "NASA InSight Mission to Mars Arrives at Launch Site\n",
      "\n",
      "Curiosity Tests a New Way to Drill on Mars\n",
      "\n",
      "Seven Ways Mars InSight is Different\n",
      "\n",
      "Nearly a Decade After Mars Phoenix Landed, Another Look\n",
      "\n",
      "Spacecraft Exits Safe Mode\n",
      "\n",
      "5,000 Days on Mars; Solar-Powered Rover Approaching 5,000th Martian Dawn\n",
      "\n",
      "Long-Lived Mars Rover Opportunity Keeps Finding Surprises\n",
      "\n",
      "A Piece of Mars is Going Home\n",
      "\n",
      "Mars Reconnaissance Orbiter Preparing for Years Ahead\n",
      "\n",
      "Tiny Crystal Shapes Get Close Look From Mars Rover\n",
      "\n",
      "NASA Tests Atomic Clock for Deep Space Navigation\n",
      "\n",
      "Mount Sharp 'Photobombs' Mars Curiosity Rover\n",
      "\n",
      "Vista From Mars Rover Looks Back Over Journey So Far\n",
      "\n",
      "NASA's Next Mars Lander Spreads its Solar Wings\n",
      "\n",
      "Dust Storms Linked to Gas Escape from Mars Atmosphere\n",
      "\n",
      "Steep Slopes on Mars Reveal Structure of Buried Ice\n",
      "\n",
      "\n",
      "\n",
      "\n",
      "\n",
      "\n",
      "\n",
      "Demonstration Proves Nuclear Fission System Can Provide Space Exploration Power\n",
      "\n",
      "NASA Invests in Visionary Technology\n",
      "\n",
      "NASA is Ready to Study the Heart of Mars\n",
      "\n",
      "\n",
      "\n",
      "\n",
      "\n",
      "\n",
      "\n",
      "\n",
      "\n",
      "\n",
      "\n",
      "\n",
      "\n"
     ]
    }
   ],
   "source": [
    "for result in results_titles:\n",
    "    print(result.text)\n",
    "    print()"
   ]
  },
  {
   "cell_type": "code",
   "execution_count": 23,
   "metadata": {},
   "outputs": [
    {
     "data": {
      "text/plain": [
       "'InSight Steers Toward Mars'"
      ]
     },
     "execution_count": 23,
     "metadata": {},
     "output_type": "execute_result"
    }
   ],
   "source": [
    "news_title = results_titles[0].text\n",
    "news_title"
   ]
  },
  {
   "cell_type": "markdown",
   "metadata": {},
   "source": [
    "\n",
    "# JPL Mars Space Images - Featured Image\n",
    "\n",
    "Visit the url for JPL's Featured Space Image here.\n",
    "Use splinter to navigate the site and find the image url for the current Featured Mars Image and assign the url string to a variable called featured_image_url.\n",
    "Make sure to find the image url to the full size .jpg image.\n",
    "Make sure to save a complete url string for this image."
   ]
  },
  {
   "cell_type": "code",
   "execution_count": 26,
   "metadata": {},
   "outputs": [],
   "source": [
    "from splinter import Browser\n",
    "from bs4 import BeautifulSoup"
   ]
  },
  {
   "cell_type": "code",
   "execution_count": 27,
   "metadata": {},
   "outputs": [],
   "source": [
    "executable_path = {'executable_path': '/usr/local/bin/chromedriver'}\n",
    "browser = Browser('chrome', **executable_path, headless=False)"
   ]
  },
  {
   "cell_type": "code",
   "execution_count": 28,
   "metadata": {},
   "outputs": [],
   "source": [
    "url = 'https://www.jpl.nasa.gov/spaceimages/?search=&category=Mars'\n",
    "browser.visit(url)"
   ]
  },
  {
   "cell_type": "code",
   "execution_count": 29,
   "metadata": {},
   "outputs": [],
   "source": [
    "html = browser.html\n",
    "soup = BeautifulSoup(html, 'html.parser')\n",
    "articles = soup.find_all('div', class_='img')"
   ]
  },
  {
   "cell_type": "code",
   "execution_count": 65,
   "metadata": {},
   "outputs": [
    {
     "data": {
      "text/plain": [
       "'/spaceimages/images/wallpaper/PIA22399-640x350.jpg'"
      ]
     },
     "execution_count": 65,
     "metadata": {},
     "output_type": "execute_result"
    }
   ],
   "source": [
    "href = articles[0].find('img')['src']\n",
    "articles[0].find('img')['src']"
   ]
  },
  {
   "cell_type": "code",
   "execution_count": 64,
   "metadata": {},
   "outputs": [
    {
     "name": "stdout",
     "output_type": "stream",
     "text": [
      "/spaceimages/images/wallpaper/PIA22399-640x350.jpg\n",
      "/spaceimages/images/wallpaper/PIA22326-640x350.jpg\n",
      "/spaceimages/images/wallpaper/PIA22325-640x350.jpg\n",
      "/spaceimages/images/wallpaper/PIA22398-640x350.jpg\n",
      "/spaceimages/images/wallpaper/PIA22397-640x350.jpg\n",
      "/spaceimages/images/wallpaper/PIA22396-640x350.jpg\n",
      "/spaceimages/images/wallpaper/PIA22395-640x350.jpg\n",
      "/spaceimages/images/wallpaper/PIA22394-640x350.jpg\n",
      "/spaceimages/images/wallpaper/PIA22393-640x350.jpg\n",
      "/spaceimages/images/wallpaper/PIA22392-640x350.jpg\n",
      "/spaceimages/images/wallpaper/PIA22456-640x350.jpg\n",
      "/spaceimages/images/wallpaper/PIA22455-640x350.jpg\n",
      "/spaceimages/images/wallpaper/PIA22454-640x350.jpg\n",
      "/spaceimages/images/wallpaper/PIA22453-640x350.jpg\n",
      "/spaceimages/images/wallpaper/PIA22391-640x350.jpg\n",
      "/spaceimages/images/wallpaper/PIA22390-640x350.jpg\n",
      "/spaceimages/images/wallpaper/PIA22389-640x350.jpg\n",
      "/spaceimages/images/wallpaper/PIA22388-640x350.jpg\n",
      "/spaceimages/images/wallpaper/PIA22387-640x350.jpg\n",
      "/spaceimages/images/wallpaper/PIA22386-640x350.jpg\n",
      "/spaceimages/images/wallpaper/PIA22384-640x350.jpg\n",
      "/spaceimages/images/wallpaper/PIA22383-640x350.jpg\n",
      "/spaceimages/images/wallpaper/PIA22382-640x350.jpg\n",
      "/spaceimages/images/wallpaper/PIA22381-640x350.jpg\n",
      "/spaceimages/images/wallpaper/PIA22439-640x350.jpg\n",
      "/spaceimages/images/wallpaper/PIA22438-640x350.jpg\n",
      "/spaceimages/images/wallpaper/PIA22437-640x350.jpg\n",
      "/spaceimages/images/wallpaper/PIA22436-640x350.jpg\n",
      "/spaceimages/images/wallpaper/PIA22380-640x350.jpg\n",
      "/spaceimages/images/wallpaper/PIA22379-640x350.jpg\n",
      "/spaceimages/images/wallpaper/PIA22378-640x350.jpg\n",
      "/spaceimages/images/wallpaper/PIA22377-640x350.jpg\n"
     ]
    }
   ],
   "source": [
    "for x in articles:\n",
    "    img = x.find('img')['src']\n",
    "    #img2 = img['src']\n",
    "    print(img)"
   ]
  },
  {
   "cell_type": "code",
   "execution_count": 66,
   "metadata": {},
   "outputs": [
    {
     "data": {
      "text/plain": [
       "'https://www.jpl.nasa.gov//spaceimages/images/wallpaper/PIA22399-640x350.jpg'"
      ]
     },
     "execution_count": 66,
     "metadata": {},
     "output_type": "execute_result"
    }
   ],
   "source": [
    "featured_image_url = 'https://www.jpl.nasa.gov/' + href\n",
    "featured_image_url"
   ]
  },
  {
   "cell_type": "markdown",
   "metadata": {},
   "source": [
    "# Mars Weather\n",
    "\n",
    "\n",
    "Visit the Mars Weather twitter account here and scrape the latest Mars weather tweet from the page. Save the tweet text for the weather report as a variable called mars_weather."
   ]
  },
  {
   "cell_type": "code",
   "execution_count": 69,
   "metadata": {},
   "outputs": [],
   "source": [
    "url = 'https://twitter.com/marswxreport?lang=en'\n",
    "browser.visit(url)"
   ]
  },
  {
   "cell_type": "code",
   "execution_count": 72,
   "metadata": {},
   "outputs": [],
   "source": [
    "html = browser.html\n",
    "soup = BeautifulSoup(html, 'html.parser')\n",
    "tweets = soup.find_all('p', class_='TweetTextSize TweetTextSize--normal js-tweet-text tweet-text')"
   ]
  },
  {
   "cell_type": "code",
   "execution_count": 87,
   "metadata": {},
   "outputs": [
    {
     "name": "stdout",
     "output_type": "stream",
     "text": [
      "Sol 2058 (May 21, 2018), Sunny, high 4C/39F, low -71C/-95F, pressure at 7.43 hPa, daylight 05:20-17:20\n"
     ]
    }
   ],
   "source": [
    "tweet_text = tweets[0].text\n",
    "print(x)"
   ]
  },
  {
   "cell_type": "code",
   "execution_count": 91,
   "metadata": {},
   "outputs": [],
   "source": [
    "tweet_text = str(tweet_text)"
   ]
  },
  {
   "cell_type": "code",
   "execution_count": null,
   "metadata": {},
   "outputs": [],
   "source": []
  }
 ],
 "metadata": {
  "kernelspec": {
   "display_name": "Python 3",
   "language": "python",
   "name": "python3"
  },
  "language_info": {
   "codemirror_mode": {
    "name": "ipython",
    "version": 3
   },
   "file_extension": ".py",
   "mimetype": "text/x-python",
   "name": "python",
   "nbconvert_exporter": "python",
   "pygments_lexer": "ipython3",
   "version": "3.6.4"
  }
 },
 "nbformat": 4,
 "nbformat_minor": 2
}
